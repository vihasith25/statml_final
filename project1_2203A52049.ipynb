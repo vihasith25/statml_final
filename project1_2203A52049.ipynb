{
  "cells": [
    {
      "cell_type": "code",
      "execution_count": 1,
      "metadata": {
        "colab": {
          "base_uri": "https://localhost:8080/"
        },
        "id": "yzr8MktCTonr",
        "outputId": "09860708-fab8-4cf6-b0b1-7f2d6b5498a6"
      },
      "outputs": [
        {
          "output_type": "stream",
          "name": "stdout",
          "text": [
            "      itching  skin_rash  nodal_skin_eruptions  continuous_sneezing  \\\n",
            "0           1          1                     1                    0   \n",
            "1           0          1                     1                    0   \n",
            "2           1          0                     1                    0   \n",
            "3           1          1                     0                    0   \n",
            "4           1          1                     1                    0   \n",
            "...       ...        ...                   ...                  ...   \n",
            "4915        0          0                     0                    0   \n",
            "4916        0          1                     0                    0   \n",
            "4917        0          0                     0                    0   \n",
            "4918        0          1                     0                    0   \n",
            "4919        0          1                     0                    0   \n",
            "\n",
            "      shivering  chills  joint_pain  stomach_pain  acidity  ulcers_on_tongue  \\\n",
            "0             0       0           0             0        0                 0   \n",
            "1             0       0           0             0        0                 0   \n",
            "2             0       0           0             0        0                 0   \n",
            "3             0       0           0             0        0                 0   \n",
            "4             0       0           0             0        0                 0   \n",
            "...         ...     ...         ...           ...      ...               ...   \n",
            "4915          0       0           0             0        0                 0   \n",
            "4916          0       0           0             0        0                 0   \n",
            "4917          0       0           0             0        0                 0   \n",
            "4918          0       0           1             0        0                 0   \n",
            "4919          0       0           0             0        0                 0   \n",
            "\n",
            "      ...  scurring  skin_peeling  silver_like_dusting  small_dents_in_nails  \\\n",
            "0     ...         0             0                    0                     0   \n",
            "1     ...         0             0                    0                     0   \n",
            "2     ...         0             0                    0                     0   \n",
            "3     ...         0             0                    0                     0   \n",
            "4     ...         0             0                    0                     0   \n",
            "...   ...       ...           ...                  ...                   ...   \n",
            "4915  ...         0             0                    0                     0   \n",
            "4916  ...         1             0                    0                     0   \n",
            "4917  ...         0             0                    0                     0   \n",
            "4918  ...         0             1                    1                     1   \n",
            "4919  ...         0             0                    0                     0   \n",
            "\n",
            "      inflammatory_nails  blister  red_sore_around_nose  yellow_crust_ooze  \\\n",
            "0                      0        0                     0                  0   \n",
            "1                      0        0                     0                  0   \n",
            "2                      0        0                     0                  0   \n",
            "3                      0        0                     0                  0   \n",
            "4                      0        0                     0                  0   \n",
            "...                  ...      ...                   ...                ...   \n",
            "4915                   0        0                     0                  0   \n",
            "4916                   0        0                     0                  0   \n",
            "4917                   0        0                     0                  0   \n",
            "4918                   1        0                     0                  0   \n",
            "4919                   0        1                     1                  1   \n",
            "\n",
            "                                    prognosis  Unnamed: 133  \n",
            "0                            Fungal infection           NaN  \n",
            "1                            Fungal infection           NaN  \n",
            "2                            Fungal infection           NaN  \n",
            "3                            Fungal infection           NaN  \n",
            "4                            Fungal infection           NaN  \n",
            "...                                       ...           ...  \n",
            "4915  (vertigo) Paroymsal  Positional Vertigo           NaN  \n",
            "4916                                     Acne           NaN  \n",
            "4917                  Urinary tract infection           NaN  \n",
            "4918                                Psoriasis           NaN  \n",
            "4919                                 Impetigo           NaN  \n",
            "\n",
            "[4920 rows x 134 columns]\n",
            "      itching  skin_rash  nodal_skin_eruptions  continuous_sneezing  \\\n",
            "0       False      False                 False                False   \n",
            "1       False      False                 False                False   \n",
            "2       False      False                 False                False   \n",
            "3       False      False                 False                False   \n",
            "4       False      False                 False                False   \n",
            "...       ...        ...                   ...                  ...   \n",
            "4915    False      False                 False                False   \n",
            "4916    False      False                 False                False   \n",
            "4917    False      False                 False                False   \n",
            "4918    False      False                 False                False   \n",
            "4919    False      False                 False                False   \n",
            "\n",
            "      shivering  chills  joint_pain  stomach_pain  acidity  ulcers_on_tongue  \\\n",
            "0         False   False       False         False    False             False   \n",
            "1         False   False       False         False    False             False   \n",
            "2         False   False       False         False    False             False   \n",
            "3         False   False       False         False    False             False   \n",
            "4         False   False       False         False    False             False   \n",
            "...         ...     ...         ...           ...      ...               ...   \n",
            "4915      False   False       False         False    False             False   \n",
            "4916      False   False       False         False    False             False   \n",
            "4917      False   False       False         False    False             False   \n",
            "4918      False   False       False         False    False             False   \n",
            "4919      False   False       False         False    False             False   \n",
            "\n",
            "      ...  scurring  skin_peeling  silver_like_dusting  small_dents_in_nails  \\\n",
            "0     ...     False         False                False                 False   \n",
            "1     ...     False         False                False                 False   \n",
            "2     ...     False         False                False                 False   \n",
            "3     ...     False         False                False                 False   \n",
            "4     ...     False         False                False                 False   \n",
            "...   ...       ...           ...                  ...                   ...   \n",
            "4915  ...     False         False                False                 False   \n",
            "4916  ...     False         False                False                 False   \n",
            "4917  ...     False         False                False                 False   \n",
            "4918  ...     False         False                False                 False   \n",
            "4919  ...     False         False                False                 False   \n",
            "\n",
            "      inflammatory_nails  blister  red_sore_around_nose  yellow_crust_ooze  \\\n",
            "0                  False    False                 False              False   \n",
            "1                  False    False                 False              False   \n",
            "2                  False    False                 False              False   \n",
            "3                  False    False                 False              False   \n",
            "4                  False    False                 False              False   \n",
            "...                  ...      ...                   ...                ...   \n",
            "4915               False    False                 False              False   \n",
            "4916               False    False                 False              False   \n",
            "4917               False    False                 False              False   \n",
            "4918               False    False                 False              False   \n",
            "4919               False    False                 False              False   \n",
            "\n",
            "      prognosis  Unnamed: 133  \n",
            "0         False          True  \n",
            "1         False          True  \n",
            "2         False          True  \n",
            "3         False          True  \n",
            "4         False          True  \n",
            "...         ...           ...  \n",
            "4915      False          True  \n",
            "4916      False          True  \n",
            "4917      False          True  \n",
            "4918      False          True  \n",
            "4919      False          True  \n",
            "\n",
            "[4920 rows x 134 columns]\n"
          ]
        }
      ],
      "source": [
        "import pandas as pd\n",
        "a=pd.read_csv('/content/Training.csv')\n",
        "print(a)\n",
        "print(a.isnull())\n",
        "a=a.fillna(0)"
      ]
    },
    {
      "cell_type": "code",
      "source": [
        "import pandas as pd\n",
        "c={'True':1,'False':0}\n",
        "a=a.replace(c)\n",
        "dropping=['Unnamed: 133']\n",
        "d=a.drop(columns=dropping)\n",
        "print(d)"
      ],
      "metadata": {
        "colab": {
          "base_uri": "https://localhost:8080/"
        },
        "id": "AQExNgfjXiu1",
        "outputId": "2e65b305-bfcc-44b2-a527-2193d0a50371"
      },
      "execution_count": 2,
      "outputs": [
        {
          "output_type": "stream",
          "name": "stdout",
          "text": [
            "      itching  skin_rash  nodal_skin_eruptions  continuous_sneezing  \\\n",
            "0           1          1                     1                    0   \n",
            "1           0          1                     1                    0   \n",
            "2           1          0                     1                    0   \n",
            "3           1          1                     0                    0   \n",
            "4           1          1                     1                    0   \n",
            "...       ...        ...                   ...                  ...   \n",
            "4915        0          0                     0                    0   \n",
            "4916        0          1                     0                    0   \n",
            "4917        0          0                     0                    0   \n",
            "4918        0          1                     0                    0   \n",
            "4919        0          1                     0                    0   \n",
            "\n",
            "      shivering  chills  joint_pain  stomach_pain  acidity  ulcers_on_tongue  \\\n",
            "0             0       0           0             0        0                 0   \n",
            "1             0       0           0             0        0                 0   \n",
            "2             0       0           0             0        0                 0   \n",
            "3             0       0           0             0        0                 0   \n",
            "4             0       0           0             0        0                 0   \n",
            "...         ...     ...         ...           ...      ...               ...   \n",
            "4915          0       0           0             0        0                 0   \n",
            "4916          0       0           0             0        0                 0   \n",
            "4917          0       0           0             0        0                 0   \n",
            "4918          0       0           1             0        0                 0   \n",
            "4919          0       0           0             0        0                 0   \n",
            "\n",
            "      ...  blackheads  scurring  skin_peeling  silver_like_dusting  \\\n",
            "0     ...           0         0             0                    0   \n",
            "1     ...           0         0             0                    0   \n",
            "2     ...           0         0             0                    0   \n",
            "3     ...           0         0             0                    0   \n",
            "4     ...           0         0             0                    0   \n",
            "...   ...         ...       ...           ...                  ...   \n",
            "4915  ...           0         0             0                    0   \n",
            "4916  ...           1         1             0                    0   \n",
            "4917  ...           0         0             0                    0   \n",
            "4918  ...           0         0             1                    1   \n",
            "4919  ...           0         0             0                    0   \n",
            "\n",
            "      small_dents_in_nails  inflammatory_nails  blister  red_sore_around_nose  \\\n",
            "0                        0                   0        0                     0   \n",
            "1                        0                   0        0                     0   \n",
            "2                        0                   0        0                     0   \n",
            "3                        0                   0        0                     0   \n",
            "4                        0                   0        0                     0   \n",
            "...                    ...                 ...      ...                   ...   \n",
            "4915                     0                   0        0                     0   \n",
            "4916                     0                   0        0                     0   \n",
            "4917                     0                   0        0                     0   \n",
            "4918                     1                   1        0                     0   \n",
            "4919                     0                   0        1                     1   \n",
            "\n",
            "      yellow_crust_ooze                                prognosis  \n",
            "0                     0                         Fungal infection  \n",
            "1                     0                         Fungal infection  \n",
            "2                     0                         Fungal infection  \n",
            "3                     0                         Fungal infection  \n",
            "4                     0                         Fungal infection  \n",
            "...                 ...                                      ...  \n",
            "4915                  0  (vertigo) Paroymsal  Positional Vertigo  \n",
            "4916                  0                                     Acne  \n",
            "4917                  0                  Urinary tract infection  \n",
            "4918                  0                                Psoriasis  \n",
            "4919                  1                                 Impetigo  \n",
            "\n",
            "[4920 rows x 133 columns]\n"
          ]
        }
      ]
    },
    {
      "cell_type": "code",
      "source": [
        "y=a[\"prognosis\"]\n",
        "print(y)"
      ],
      "metadata": {
        "colab": {
          "base_uri": "https://localhost:8080/"
        },
        "id": "TMrdkh4WYwuT",
        "outputId": "40edea17-8965-42d7-87de-9fc3112bb99e"
      },
      "execution_count": 3,
      "outputs": [
        {
          "output_type": "stream",
          "name": "stdout",
          "text": [
            "0                              Fungal infection\n",
            "1                              Fungal infection\n",
            "2                              Fungal infection\n",
            "3                              Fungal infection\n",
            "4                              Fungal infection\n",
            "                         ...                   \n",
            "4915    (vertigo) Paroymsal  Positional Vertigo\n",
            "4916                                       Acne\n",
            "4917                    Urinary tract infection\n",
            "4918                                  Psoriasis\n",
            "4919                                   Impetigo\n",
            "Name: prognosis, Length: 4920, dtype: object\n"
          ]
        }
      ]
    },
    {
      "cell_type": "code",
      "source": [
        "x=d.drop(\"prognosis\", axis=1)\n",
        "print(x)"
      ],
      "metadata": {
        "colab": {
          "base_uri": "https://localhost:8080/"
        },
        "id": "kd-pW9w4Y_sK",
        "outputId": "bea976cd-5cc6-4933-be0d-6dd190f8391e"
      },
      "execution_count": 4,
      "outputs": [
        {
          "output_type": "stream",
          "name": "stdout",
          "text": [
            "      itching  skin_rash  nodal_skin_eruptions  continuous_sneezing  \\\n",
            "0           1          1                     1                    0   \n",
            "1           0          1                     1                    0   \n",
            "2           1          0                     1                    0   \n",
            "3           1          1                     0                    0   \n",
            "4           1          1                     1                    0   \n",
            "...       ...        ...                   ...                  ...   \n",
            "4915        0          0                     0                    0   \n",
            "4916        0          1                     0                    0   \n",
            "4917        0          0                     0                    0   \n",
            "4918        0          1                     0                    0   \n",
            "4919        0          1                     0                    0   \n",
            "\n",
            "      shivering  chills  joint_pain  stomach_pain  acidity  ulcers_on_tongue  \\\n",
            "0             0       0           0             0        0                 0   \n",
            "1             0       0           0             0        0                 0   \n",
            "2             0       0           0             0        0                 0   \n",
            "3             0       0           0             0        0                 0   \n",
            "4             0       0           0             0        0                 0   \n",
            "...         ...     ...         ...           ...      ...               ...   \n",
            "4915          0       0           0             0        0                 0   \n",
            "4916          0       0           0             0        0                 0   \n",
            "4917          0       0           0             0        0                 0   \n",
            "4918          0       0           1             0        0                 0   \n",
            "4919          0       0           0             0        0                 0   \n",
            "\n",
            "      ...  pus_filled_pimples  blackheads  scurring  skin_peeling  \\\n",
            "0     ...                   0           0         0             0   \n",
            "1     ...                   0           0         0             0   \n",
            "2     ...                   0           0         0             0   \n",
            "3     ...                   0           0         0             0   \n",
            "4     ...                   0           0         0             0   \n",
            "...   ...                 ...         ...       ...           ...   \n",
            "4915  ...                   0           0         0             0   \n",
            "4916  ...                   1           1         1             0   \n",
            "4917  ...                   0           0         0             0   \n",
            "4918  ...                   0           0         0             1   \n",
            "4919  ...                   0           0         0             0   \n",
            "\n",
            "      silver_like_dusting  small_dents_in_nails  inflammatory_nails  blister  \\\n",
            "0                       0                     0                   0        0   \n",
            "1                       0                     0                   0        0   \n",
            "2                       0                     0                   0        0   \n",
            "3                       0                     0                   0        0   \n",
            "4                       0                     0                   0        0   \n",
            "...                   ...                   ...                 ...      ...   \n",
            "4915                    0                     0                   0        0   \n",
            "4916                    0                     0                   0        0   \n",
            "4917                    0                     0                   0        0   \n",
            "4918                    1                     1                   1        0   \n",
            "4919                    0                     0                   0        1   \n",
            "\n",
            "      red_sore_around_nose  yellow_crust_ooze  \n",
            "0                        0                  0  \n",
            "1                        0                  0  \n",
            "2                        0                  0  \n",
            "3                        0                  0  \n",
            "4                        0                  0  \n",
            "...                    ...                ...  \n",
            "4915                     0                  0  \n",
            "4916                     0                  0  \n",
            "4917                     0                  0  \n",
            "4918                     0                  0  \n",
            "4919                     1                  1  \n",
            "\n",
            "[4920 rows x 132 columns]\n"
          ]
        }
      ]
    },
    {
      "cell_type": "code",
      "source": [
        "import matplotlib.pyplot as plt\n",
        "plt.hist(x,40)"
      ],
      "metadata": {
        "colab": {
          "base_uri": "https://localhost:8080/",
          "height": 656
        },
        "id": "WZUmLQ76Zn6H",
        "outputId": "b026ebe0-b6b1-4dda-e484-006d51dbbd41"
      },
      "execution_count": 5,
      "outputs": [
        {
          "output_type": "execute_result",
          "data": {
            "text/plain": [
              "(array([[4242.,    0.,    0., ...,    0.,    0.,  678.],\n",
              "        [4134.,    0.,    0., ...,    0.,    0.,  786.],\n",
              "        [4812.,    0.,    0., ...,    0.,    0.,  108.],\n",
              "        ...,\n",
              "        [4806.,    0.,    0., ...,    0.,    0.,  114.],\n",
              "        [4806.,    0.,    0., ...,    0.,    0.,  114.],\n",
              "        [4806.,    0.,    0., ...,    0.,    0.,  114.]]),\n",
              " array([0.   , 0.025, 0.05 , 0.075, 0.1  , 0.125, 0.15 , 0.175, 0.2  ,\n",
              "        0.225, 0.25 , 0.275, 0.3  , 0.325, 0.35 , 0.375, 0.4  , 0.425,\n",
              "        0.45 , 0.475, 0.5  , 0.525, 0.55 , 0.575, 0.6  , 0.625, 0.65 ,\n",
              "        0.675, 0.7  , 0.725, 0.75 , 0.775, 0.8  , 0.825, 0.85 , 0.875,\n",
              "        0.9  , 0.925, 0.95 , 0.975, 1.   ]),\n",
              " <a list of 132 BarContainer objects>)"
            ]
          },
          "metadata": {},
          "execution_count": 5
        },
        {
          "output_type": "display_data",
          "data": {
            "text/plain": [
              "<Figure size 640x480 with 1 Axes>"
            ],
            "image/png": "[encoded data removed]"
          },
          "metadata": {}
        }
      ]
    },
    {
      "cell_type": "code",
      "source": [
        "plt.scatter(y,y)"
      ],
      "metadata": {
        "colab": {
          "base_uri": "https://localhost:8080/",
          "height": 447
        },
        "id": "ko2SIs6rXswq",
        "outputId": "318a532a-4cea-4118-c6d2-9ccd7663511c"
      },
      "execution_count": 6,
      "outputs": [
        {
          "output_type": "execute_result",
          "data": {
            "text/plain": [
              "<matplotlib.collections.PathCollection at 0x79bc29558280>"
            ]
          },
          "metadata": {},
          "execution_count": 6
        },
        {
          "output_type": "display_data",
          "data": {
            "text/plain": [
              "<Figure size 640x480 with 1 Axes>"
            ],
            "image/png": "[encoded data removed]"
          },
          "metadata": {}
        }
      ]
    },
    {
      "cell_type": "code",
      "source": [
        "import plotly.express as px\n",
        "disease_counts = a['prognosis'].value_counts().reset_index()\n",
        "disease_counts.columns = ['prognosis', 'Count']\n",
        "fig = px.pie(disease_counts,\n",
        "             values= 'Count',\n",
        "             names= 'prognosis',\n",
        "             color_discrete_sequence= px.colors.sequential.Reds_r,\n",
        "             title= 'Disease Distribution')\n",
        "fig.update_traces(textinfo='percent+label')\n",
        "fig.show()"
      ],
      "metadata": {
        "colab": {
          "base_uri": "https://localhost:8080/",
          "height": 542
        },
        "id": "dnc3WWZ5YOrG",
        "outputId": "685ca9e3-0f80-446a-c45e-dddd5982effc"
      },
      "execution_count": null,
      "outputs": [
        {
          "output_type": "display_data",
          "data": {
            "text/html": [
              "<html>\n",
              "<head><meta charset=\"utf-8\" /></head>\n",
              "<body>\n",
              "    <div>            <script src=\"https://cdnjs.cloudflare.com/ajax/libs/mathjax/2.7.5/MathJax.js?config=TeX-AMS-MML_SVG\"></script><script type=\"text/javascript\">if (window.MathJax && window.MathJax.Hub && window.MathJax.Hub.Config) {window.MathJax.Hub.Config({SVG: {font: \"STIX-Web\"}});}</script>                <script type=\"text/javascript\">window.PlotlyConfig = {MathJaxConfig: 'local'};</script>\n",
              "        <script charset=\"utf-8\" src=\"https://cdn.plot.ly/plotly-2.24.1.min.js\"></script>                <div id=\"4c744977-f596-447b-8628-8c8ec860436f\" class=\"plotly-graph-div\" style=\"height:525px; width:100%;\"></div>            <script type=\"text/javascript\">                                    window.PLOTLYENV=window.PLOTLYENV || {};                                    if (document.getElementById(\"4c744977-f596-447b-8628-8c8ec860436f\")) {                    Plotly.newPlot(                        \"4c744977-f596-447b-8628-8c8ec860436f\",                        [{\"domain\":{\"x\":[0.0,1.0],\"y\":[0.0,1.0]},\"hovertemplate\":\"prognosis=%{label}\\u003cbr\\u003eCount=%{value}\\u003cextra\\u003e\\u003c\\u002fextra\\u003e\",\"labels\":[\"Fungal infection\",\"Hepatitis C\",\"Hepatitis E\",\"Alcoholic hepatitis\",\"Tuberculosis\",\"Common Cold\",\"Pneumonia\",\"Dimorphic hemmorhoids(piles)\",\"Heart attack\",\"Varicose veins\",\"Hypothyroidism\",\"Hyperthyroidism\",\"Hypoglycemia\",\"Osteoarthristis\",\"Arthritis\",\"(vertigo) Paroymsal  Positional Vertigo\",\"Acne\",\"Urinary tract infection\",\"Psoriasis\",\"Hepatitis D\",\"Hepatitis B\",\"Allergy\",\"hepatitis A\",\"GERD\",\"Chronic cholestasis\",\"Drug Reaction\",\"Peptic ulcer diseae\",\"AIDS\",\"Diabetes \",\"Gastroenteritis\",\"Bronchial Asthma\",\"Hypertension \",\"Migraine\",\"Cervical spondylosis\",\"Paralysis (brain hemorrhage)\",\"Jaundice\",\"Malaria\",\"Chicken pox\",\"Dengue\",\"Typhoid\",\"Impetigo\"],\"legendgroup\":\"\",\"name\":\"\",\"showlegend\":true,\"values\":[120,120,120,120,120,120,120,120,120,120,120,120,120,120,120,120,120,120,120,120,120,120,120,120,120,120,120,120,120,120,120,120,120,120,120,120,120,120,120,120,120],\"type\":\"pie\",\"textinfo\":\"percent+label\"}],                        {\"template\":{\"data\":{\"histogram2dcontour\":[{\"type\":\"histogram2dcontour\",\"colorbar\":{\"outlinewidth\":0,\"ticks\":\"\"},\"colorscale\":[[0.0,\"#0d0887\"],[0.1111111111111111,\"#46039f\"],[0.2222222222222222,\"#7201a8\"],[0.3333333333333333,\"#9c179e\"],[0.4444444444444444,\"#bd3786\"],[0.5555555555555556,\"#d8576b\"],[0.6666666666666666,\"#ed7953\"],[0.7777777777777778,\"#fb9f3a\"],[0.8888888888888888,\"#fdca26\"],[1.0,\"#f0f921\"]]}],\"choropleth\":[{\"type\":\"choropleth\",\"colorbar\":{\"outlinewidth\":0,\"ticks\":\"\"}}],\"histogram2d\":[{\"type\":\"histogram2d\",\"colorbar\":{\"outlinewidth\":0,\"ticks\":\"\"},\"colorscale\":[[0.0,\"#0d0887\"],[0.1111111111111111,\"#46039f\"],[0.2222222222222222,\"#7201a8\"],[0.3333333333333333,\"#9c179e\"],[0.4444444444444444,\"#bd3786\"],[0.5555555555555556,\"#d8576b\"],[0.6666666666666666,\"#ed7953\"],[0.7777777777777778,\"#fb9f3a\"],[0.8888888888888888,\"#fdca26\"],[1.0,\"#f0f921\"]]}],\"heatmap\":[{\"type\":\"heatmap\",\"colorbar\":{\"outlinewidth\":0,\"ticks\":\"\"},\"colorscale\":[[0.0,\"#0d0887\"],[0.1111111111111111,\"#46039f\"],[0.2222222222222222,\"#7201a8\"],[0.3333333333333333,\"#9c179e\"],[0.4444444444444444,\"#bd3786\"],[0.5555555555555556,\"#d8576b\"],[0.6666666666666666,\"#ed7953\"],[0.7777777777777778,\"#fb9f3a\"],[0.8888888888888888,\"#fdca26\"],[1.0,\"#f0f921\"]]}],\"heatmapgl\":[{\"type\":\"heatmapgl\",\"colorbar\":{\"outlinewidth\":0,\"ticks\":\"\"},\"colorscale\":[[0.0,\"#0d0887\"],[0.1111111111111111,\"#46039f\"],[0.2222222222222222,\"#7201a8\"],[0.3333333333333333,\"#9c179e\"],[0.4444444444444444,\"#bd3786\"],[0.5555555555555556,\"#d8576b\"],[0.6666666666666666,\"#ed7953\"],[0.7777777777777778,\"#fb9f3a\"],[0.8888888888888888,\"#fdca26\"],[1.0,\"#f0f921\"]]}],\"contourcarpet\":[{\"type\":\"contourcarpet\",\"colorbar\":{\"outlinewidth\":0,\"ticks\":\"\"}}],\"contour\":[{\"type\":\"contour\",\"colorbar\":{\"outlinewidth\":0,\"ticks\":\"\"},\"colorscale\":[[0.0,\"#0d0887\"],[0.1111111111111111,\"#46039f\"],[0.2222222222222222,\"#7201a8\"],[0.3333333333333333,\"#9c179e\"],[0.4444444444444444,\"#bd3786\"],[0.5555555555555556,\"#d8576b\"],[0.6666666666666666,\"#ed7953\"],[0.7777777777777778,\"#fb9f3a\"],[0.8888888888888888,\"#fdca26\"],[1.0,\"#f0f921\"]]}],\"surface\":[{\"type\":\"surface\",\"colorbar\":{\"outlinewidth\":0,\"ticks\":\"\"},\"colorscale\":[[0.0,\"#0d0887\"],[0.1111111111111111,\"#46039f\"],[0.2222222222222222,\"#7201a8\"],[0.3333333333333333,\"#9c179e\"],[0.4444444444444444,\"#bd3786\"],[0.5555555555555556,\"#d8576b\"],[0.6666666666666666,\"#ed7953\"],[0.7777777777777778,\"#fb9f3a\"],[0.8888888888888888,\"#fdca26\"],[1.0,\"#f0f921\"]]}],\"mesh3d\":[{\"type\":\"mesh3d\",\"colorbar\":{\"outlinewidth\":0,\"ticks\":\"\"}}],\"scatter\":[{\"fillpattern\":{\"fillmode\":\"overlay\",\"size\":10,\"solidity\":0.2},\"type\":\"scatter\"}],\"parcoords\":[{\"type\":\"parcoords\",\"line\":{\"colorbar\":{\"outlinewidth\":0,\"ticks\":\"\"}}}],\"scatterpolargl\":[{\"type\":\"scatterpolargl\",\"marker\":{\"colorbar\":{\"outlinewidth\":0,\"ticks\":\"\"}}}],\"bar\":[{\"error_x\":{\"color\":\"#2a3f5f\"},\"error_y\":{\"color\":\"#2a3f5f\"},\"marker\":{\"line\":{\"color\":\"#E5ECF6\",\"width\":0.5},\"pattern\":{\"fillmode\":\"overlay\",\"size\":10,\"solidity\":0.2}},\"type\":\"bar\"}],\"scattergeo\":[{\"type\":\"scattergeo\",\"marker\":{\"colorbar\":{\"outlinewidth\":0,\"ticks\":\"\"}}}],\"scatterpolar\":[{\"type\":\"scatterpolar\",\"marker\":{\"colorbar\":{\"outlinewidth\":0,\"ticks\":\"\"}}}],\"histogram\":[{\"marker\":{\"pattern\":{\"fillmode\":\"overlay\",\"size\":10,\"solidity\":0.2}},\"type\":\"histogram\"}],\"scattergl\":[{\"type\":\"scattergl\",\"marker\":{\"colorbar\":{\"outlinewidth\":0,\"ticks\":\"\"}}}],\"scatter3d\":[{\"type\":\"scatter3d\",\"line\":{\"colorbar\":{\"outlinewidth\":0,\"ticks\":\"\"}},\"marker\":{\"colorbar\":{\"outlinewidth\":0,\"ticks\":\"\"}}}],\"scattermapbox\":[{\"type\":\"scattermapbox\",\"marker\":{\"colorbar\":{\"outlinewidth\":0,\"ticks\":\"\"}}}],\"scatterternary\":[{\"type\":\"scatterternary\",\"marker\":{\"colorbar\":{\"outlinewidth\":0,\"ticks\":\"\"}}}],\"scattercarpet\":[{\"type\":\"scattercarpet\",\"marker\":{\"colorbar\":{\"outlinewidth\":0,\"ticks\":\"\"}}}],\"carpet\":[{\"aaxis\":{\"endlinecolor\":\"#2a3f5f\",\"gridcolor\":\"white\",\"linecolor\":\"white\",\"minorgridcolor\":\"white\",\"startlinecolor\":\"#2a3f5f\"},\"baxis\":{\"endlinecolor\":\"#2a3f5f\",\"gridcolor\":\"white\",\"linecolor\":\"white\",\"minorgridcolor\":\"white\",\"startlinecolor\":\"#2a3f5f\"},\"type\":\"carpet\"}],\"table\":[{\"cells\":{\"fill\":{\"color\":\"#EBF0F8\"},\"line\":{\"color\":\"white\"}},\"header\":{\"fill\":{\"color\":\"#C8D4E3\"},\"line\":{\"color\":\"white\"}},\"type\":\"table\"}],\"barpolar\":[{\"marker\":{\"line\":{\"color\":\"#E5ECF6\",\"width\":0.5},\"pattern\":{\"fillmode\":\"overlay\",\"size\":10,\"solidity\":0.2}},\"type\":\"barpolar\"}],\"pie\":[{\"automargin\":true,\"type\":\"pie\"}]},\"layout\":{\"autotypenumbers\":\"strict\",\"colorway\":[\"#636efa\",\"#EF553B\",\"#00cc96\",\"#ab63fa\",\"#FFA15A\",\"#19d3f3\",\"#FF6692\",\"#B6E880\",\"#FF97FF\",\"#FECB52\"],\"font\":{\"color\":\"#2a3f5f\"},\"hovermode\":\"closest\",\"hoverlabel\":{\"align\":\"left\"},\"paper_bgcolor\":\"white\",\"plot_bgcolor\":\"#E5ECF6\",\"polar\":{\"bgcolor\":\"#E5ECF6\",\"angularaxis\":{\"gridcolor\":\"white\",\"linecolor\":\"white\",\"ticks\":\"\"},\"radialaxis\":{\"gridcolor\":\"white\",\"linecolor\":\"white\",\"ticks\":\"\"}},\"ternary\":{\"bgcolor\":\"#E5ECF6\",\"aaxis\":{\"gridcolor\":\"white\",\"linecolor\":\"white\",\"ticks\":\"\"},\"baxis\":{\"gridcolor\":\"white\",\"linecolor\":\"white\",\"ticks\":\"\"},\"caxis\":{\"gridcolor\":\"white\",\"linecolor\":\"white\",\"ticks\":\"\"}},\"coloraxis\":{\"colorbar\":{\"outlinewidth\":0,\"ticks\":\"\"}},\"colorscale\":{\"sequential\":[[0.0,\"#0d0887\"],[0.1111111111111111,\"#46039f\"],[0.2222222222222222,\"#7201a8\"],[0.3333333333333333,\"#9c179e\"],[0.4444444444444444,\"#bd3786\"],[0.5555555555555556,\"#d8576b\"],[0.6666666666666666,\"#ed7953\"],[0.7777777777777778,\"#fb9f3a\"],[0.8888888888888888,\"#fdca26\"],[1.0,\"#f0f921\"]],\"sequentialminus\":[[0.0,\"#0d0887\"],[0.1111111111111111,\"#46039f\"],[0.2222222222222222,\"#7201a8\"],[0.3333333333333333,\"#9c179e\"],[0.4444444444444444,\"#bd3786\"],[0.5555555555555556,\"#d8576b\"],[0.6666666666666666,\"#ed7953\"],[0.7777777777777778,\"#fb9f3a\"],[0.8888888888888888,\"#fdca26\"],[1.0,\"#f0f921\"]],\"diverging\":[[0,\"#8e0152\"],[0.1,\"#c51b7d\"],[0.2,\"#de77ae\"],[0.3,\"#f1b6da\"],[0.4,\"#fde0ef\"],[0.5,\"#f7f7f7\"],[0.6,\"#e6f5d0\"],[0.7,\"#b8e186\"],[0.8,\"#7fbc41\"],[0.9,\"#4d9221\"],[1,\"#276419\"]]},\"xaxis\":{\"gridcolor\":\"white\",\"linecolor\":\"white\",\"ticks\":\"\",\"title\":{\"standoff\":15},\"zerolinecolor\":\"white\",\"automargin\":true,\"zerolinewidth\":2},\"yaxis\":{\"gridcolor\":\"white\",\"linecolor\":\"white\",\"ticks\":\"\",\"title\":{\"standoff\":15},\"zerolinecolor\":\"white\",\"automargin\":true,\"zerolinewidth\":2},\"scene\":{\"xaxis\":{\"backgroundcolor\":\"#E5ECF6\",\"gridcolor\":\"white\",\"linecolor\":\"white\",\"showbackground\":true,\"ticks\":\"\",\"zerolinecolor\":\"white\",\"gridwidth\":2},\"yaxis\":{\"backgroundcolor\":\"#E5ECF6\",\"gridcolor\":\"white\",\"linecolor\":\"white\",\"showbackground\":true,\"ticks\":\"\",\"zerolinecolor\":\"white\",\"gridwidth\":2},\"zaxis\":{\"backgroundcolor\":\"#E5ECF6\",\"gridcolor\":\"white\",\"linecolor\":\"white\",\"showbackground\":true,\"ticks\":\"\",\"zerolinecolor\":\"white\",\"gridwidth\":2}},\"shapedefaults\":{\"line\":{\"color\":\"#2a3f5f\"}},\"annotationdefaults\":{\"arrowcolor\":\"#2a3f5f\",\"arrowhead\":0,\"arrowwidth\":1},\"geo\":{\"bgcolor\":\"white\",\"landcolor\":\"#E5ECF6\",\"subunitcolor\":\"white\",\"showland\":true,\"showlakes\":true,\"lakecolor\":\"white\"},\"title\":{\"x\":0.05},\"mapbox\":{\"style\":\"light\"}}},\"legend\":{\"tracegroupgap\":0},\"title\":{\"text\":\"Disease Distribution\"},\"piecolorway\":[\"rgb(103,0,13)\",\"rgb(165,15,21)\",\"rgb(203,24,29)\",\"rgb(239,59,44)\",\"rgb(251,106,74)\",\"rgb(252,146,114)\",\"rgb(252,187,161)\",\"rgb(254,224,210)\",\"rgb(255,245,240)\"]},                        {\"responsive\": true}                    ).then(function(){\n",
              "                            \n",
              "var gd = document.getElementById('4c744977-f596-447b-8628-8c8ec860436f');\n",
              "var x = new MutationObserver(function (mutations, observer) {{\n",
              "        var display = window.getComputedStyle(gd).display;\n",
              "        if (!display || display === 'none') {{\n",
              "            console.log([gd, 'removed!']);\n",
              "            Plotly.purge(gd);\n",
              "            observer.disconnect();\n",
              "        }}\n",
              "}});\n",
              "\n",
              "// Listen for the removal of the full notebook cells\n",
              "var notebookContainer = gd.closest('#notebook-container');\n",
              "if (notebookContainer) {{\n",
              "    x.observe(notebookContainer, {childList: true});\n",
              "}}\n",
              "\n",
              "// Listen for the clearing of the current output cell\n",
              "var outputEl = gd.closest('.output');\n",
              "if (outputEl) {{\n",
              "    x.observe(outputEl, {childList: true});\n",
              "}}\n",
              "\n",
              "                        })                };                            </script>        </div>\n",
              "</body>\n",
              "</html>"
            ]
          },
          "metadata": {}
        }
      ]
    },
    {
      "cell_type": "code",
      "source": [
        "#logistric regression\n",
        "from sklearn.metrics import accuracy_score, confusion_matrix\n",
        "import seaborn as sns\n",
        "from sklearn.model_selection import train_test_split\n",
        "from sklearn.linear_model import LogisticRegression\n",
        "x_train, x_test, y_train, y_test = train_test_split(x,y,test_size=0.29,random_state=42)\n",
        "model = LogisticRegression()\n",
        "model.fit(x_train, y_train)\n",
        "y_pred = model.predict(x_test)\n",
        "Accuracy = accuracy_score(y_test, y_pred)\n",
        "print(\"Accuracy:\", Accuracy)"
      ],
      "metadata": {
        "colab": {
          "base_uri": "https://localhost:8080/"
        },
        "id": "VcFSX44uZE7X",
        "outputId": "54a41329-e7ef-4ecc-9d82-6cd6761bf65e"
      },
      "execution_count": null,
      "outputs": [
        {
          "output_type": "stream",
          "name": "stdout",
          "text": [
            "Accuracy: 1.0\n"
          ]
        }
      ]
    },
    {
      "cell_type": "code",
      "source": [
        "#SVM\n",
        "from sklearn import datasets\n",
        "from sklearn.model_selection import train_test_split\n",
        "from sklearn.svm import SVC\n",
        "from sklearn.svm import SVR\n",
        "from sklearn.metrics import accuracy_score, mean_squared_error\n",
        "X_train, X_test, y_train, y_test = train_test_split(x,y, test_size=0.2, random_state=42)\n",
        "model = SVC(kernel='linear')\n",
        "model.fit(X_train, y_train)\n",
        "y_pred = model.predict(X_test)\n",
        "acc = accuracy_score(y_test, y_pred)\n",
        "print(f'Accuracy: {acc}')"
      ],
      "metadata": {
        "colab": {
          "base_uri": "https://localhost:8080/"
        },
        "id": "ZsZAwL--eWmt",
        "outputId": "18bdc6a8-4d29-48a4-c87f-690bbaec29a6"
      },
      "execution_count": null,
      "outputs": [
        {
          "output_type": "stream",
          "name": "stdout",
          "text": [
            "Accuracy: 1.0\n"
          ]
        }
      ]
    },
    {
      "cell_type": "code",
      "source": [
        "#percerpton learning\n",
        "import numpy as np\n",
        "x1 = np.random.rand(20, 15)\n",
        "w=[-0.5,-0.2,-0.7,0.9,-0.5,0.6,-0.9,0.7,-0.8,-0.3,-0.8,0.1,-0.7,0.2,-0.6]\n",
        "\n",
        "def perceptron(w, x1, b):\n",
        "    yp = []\n",
        "    for i in range(len(x1)):\n",
        "        s = np.dot(x1[i], w) + b\n",
        "        s2 = 1 / (1 + np.exp(-s))\n",
        "        if s2 >= 0.5:\n",
        "            yp.append(1)\n",
        "        else:\n",
        "            yp.append(0)\n",
        "    return yp\n",
        "b= float(input(\"enter b:\"))\n",
        "predicted_values = perceptron(w, x1, b)\n",
        "print(predicted_values)"
      ],
      "metadata": {
        "colab": {
          "base_uri": "https://localhost:8080/"
        },
        "id": "3lM3jQzlYjWC",
        "outputId": "d0265658-b83e-4d3a-9f44-aaff6b62e505"
      },
      "execution_count": null,
      "outputs": [
        {
          "output_type": "stream",
          "name": "stdout",
          "text": [
            "enter b:2\n",
            "[0, 0, 0, 0, 0, 1, 1, 0, 0, 1, 1, 0, 1, 1, 1, 1, 0, 1, 1, 0]\n"
          ]
        }
      ]
    },
    {
      "cell_type": "code",
      "source": [
        "#kNN\n",
        "from sklearn.neighbors import KNeighborsClassifier\n",
        "from sklearn.datasets import load_iris\n",
        "from sklearn.model_selection import train_test_split\n",
        "data = load_iris()\n",
        "X_train, X_test, y_train, y_test = train_test_split(x, y, test_size=0.3, random_state=42)\n",
        "k=10\n",
        "knn = KNeighborsClassifier(n_neighbors=10)\n",
        "knn.fit(X_train, y_train)\n",
        "y_pred = knn.predict(X_test)\n",
        "from sklearn.metrics import accuracy_score\n",
        "accuracy = accuracy_score(y_test, y_pred)\n",
        "print(f'Accuracy: {accuracy}')"
      ],
      "metadata": {
        "colab": {
          "base_uri": "https://localhost:8080/"
        },
        "id": "TAFP7EfnBX9S",
        "outputId": "1f39db46-967e-4bb3-f9c1-997504c4dc73"
      },
      "execution_count": 10,
      "outputs": [
        {
          "output_type": "stream",
          "name": "stdout",
          "text": [
            "Accuracy: 1.0\n"
          ]
        }
      ]
    },
    {
      "cell_type": "code",
      "source": [
        "from sklearn.decomposition import PCA\n",
        "pca=PCA(4)\n",
        "x1=pca.fit_transform(x)\n",
        "print(x1)\n",
        "print(x1.shape)\n",
        "print(y.shape)"
      ],
      "metadata": {
        "colab": {
          "base_uri": "https://localhost:8080/"
        },
        "id": "TRBAHTshNaJW",
        "outputId": "c98f1da5-9913-46d1-a59c-0ef60fd10555"
      },
      "execution_count": 26,
      "outputs": [
        {
          "output_type": "stream",
          "name": "stdout",
          "text": [
            "[[-0.71980271 -0.3466156  -0.26598288 -0.67721148]\n",
            " [-0.79505389 -0.28166044 -0.33029346 -0.45795906]\n",
            " [-0.67269254 -0.36281151 -0.14569545 -0.51327445]\n",
            " ...\n",
            " [-0.81991236 -0.33042665 -0.24912797 -0.33372084]\n",
            " [-0.66878502 -0.42470113 -0.47600588 -0.50553778]\n",
            " [-0.60063818  0.06487296 -0.47287793 -0.50140486]]\n",
            "(4920, 4)\n",
            "(4920,)\n"
          ]
        }
      ]
    },
    {
      "cell_type": "code",
      "source": [
        "#logistric regression\n",
        "from sklearn.metrics import accuracy_score, confusion_matrix\n",
        "import seaborn as sns\n",
        "from sklearn.model_selection import train_test_split\n",
        "from sklearn.linear_model import LogisticRegression\n",
        "x_train, x_test, y_train, y_test = train_test_split(x1,y,test_size=0.29,random_state=42)\n",
        "model = LogisticRegression()\n",
        "model.fit(x_train, y_train)\n",
        "y_pred = model.predict(x_test)\n",
        "Accuracy = accuracy_score(y_test, y_pred)\n",
        "print(\"Accuracy:\", Accuracy)"
      ],
      "metadata": {
        "colab": {
          "base_uri": "https://localhost:8080/"
        },
        "id": "gZwKdHtJOSlS",
        "outputId": "09f0408a-d68c-4920-c6c2-aee2f4669d3d"
      },
      "execution_count": 23,
      "outputs": [
        {
          "output_type": "stream",
          "name": "stdout",
          "text": [
            "Accuracy: 0.9060967063770147\n"
          ]
        }
      ]
    },
    {
      "cell_type": "code",
      "source": [
        "#SVM\n",
        "from sklearn import datasets\n",
        "from sklearn.model_selection import train_test_split\n",
        "from sklearn.svm import SVC\n",
        "from sklearn.svm import SVR\n",
        "from sklearn.metrics import accuracy_score, mean_squared_error\n",
        "X_train, X_test, y_train, y_test = train_test_split(x1,y, test_size=0.2, random_state=42)\n",
        "model = SVC(kernel='linear')\n",
        "model.fit(X_train, y_train)\n",
        "y_pred = model.predict(X_test)\n",
        "acc = accuracy_score(y_test, y_pred)\n",
        "print(f'Accuracy: {acc}')"
      ],
      "metadata": {
        "colab": {
          "base_uri": "https://localhost:8080/"
        },
        "id": "FpaILjLiOU-a",
        "outputId": "16f6727f-af4a-4d6c-eacb-3e6220015a65"
      },
      "execution_count": 24,
      "outputs": [
        {
          "output_type": "stream",
          "name": "stdout",
          "text": [
            "Accuracy: 0.9034552845528455\n"
          ]
        }
      ]
    },
    {
      "cell_type": "code",
      "source": [
        "#kNN\n",
        "from sklearn.neighbors import KNeighborsClassifier\n",
        "from sklearn.datasets import load_iris\n",
        "from sklearn.model_selection import train_test_split\n",
        "data = load_iris()\n",
        "X_train, X_test, y_train, y_test = train_test_split(x1, y, test_size=0.3, random_state=42)\n",
        "k=10\n",
        "knn = KNeighborsClassifier(n_neighbors=10)\n",
        "knn.fit(X_train, y_train)\n",
        "y_pred = knn.predict(X_test)\n",
        "from sklearn.metrics import accuracy_score\n",
        "accuracy = accuracy_score(y_test, y_pred)\n",
        "print(f'Accuracy: {accuracy}')"
      ],
      "metadata": {
        "colab": {
          "base_uri": "https://localhost:8080/"
        },
        "id": "96SbtPI9Os7n",
        "outputId": "cac80c74-d975-4bbf-bf29-a5e7cc4e1631"
      },
      "execution_count": 25,
      "outputs": [
        {
          "output_type": "stream",
          "name": "stdout",
          "text": [
            "Accuracy: 0.9661246612466124\n"
          ]
        }
      ]
    }
  ],
  "metadata": {
    "colab": {
      "provenance": []
    },
    "kernelspec": {
      "display_name": "Python 3",
      "name": "python3"
    },
    "language_info": {
      "name": "python"
    }
  },
  "nbformat": 4,
  "nbformat_minor": 0
}